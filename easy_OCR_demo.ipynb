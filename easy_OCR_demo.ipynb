{
  "cells": [
    {
      "cell_type": "code",
      "execution_count": null,
      "metadata": {
        "colab": {
          "base_uri": "https://localhost:8080/"
        },
        "id": "hD8TRh0rCSmO",
        "outputId": "c60b9fe5-37e5-4833-fbcc-248ceb569807"
      },
      "outputs": [],
      "source": [
        "!pip install easyocr"
      ]
    },
    {
      "cell_type": "code",
      "execution_count": null,
      "metadata": {
        "id": "6wKgPU52CZ6K"
      },
      "outputs": [],
      "source": [
        "import matplotlib.pyplot as plt\n",
        "import cv2\n",
        "import easyocr\n",
        "from IPython.display import Image"
      ]
    },
    {
      "cell_type": "code",
      "execution_count": null,
      "metadata": {
        "colab": {
          "base_uri": "https://localhost:8080/",
          "height": 65
        },
        "id": "hxBLiy0AChPp",
        "outputId": "6f8e0eb9-eeaf-4561-dd16-50689139a125"
      },
      "outputs": [],
      "source": [
        "Image(\"/content/scaned_img_2.jpg\")"
      ]
    },
    {
      "cell_type": "code",
      "execution_count": null,
      "metadata": {
        "colab": {
          "base_uri": "https://localhost:8080/"
        },
        "id": "ZYD5fu4NCq2U",
        "outputId": "8a9390ef-9bad-443f-88d8-48411a496fc6"
      },
      "outputs": [],
      "source": [
        "\n",
        "reader = easyocr.Reader(['en'])"
      ]
    },
    {
      "cell_type": "code",
      "execution_count": null,
      "metadata": {
        "id": "ZCHP-450Cl9x"
      },
      "outputs": [],
      "source": [
        "\n",
        "output = reader.readtext('/content/scaned_img_0.jpg')"
      ]
    },
    {
      "cell_type": "code",
      "execution_count": null,
      "metadata": {
        "colab": {
          "base_uri": "https://localhost:8080/"
        },
        "id": "Ao44WMNJC_4R",
        "outputId": "4f9bc326-5f01-4871-9388-86c3726df528"
      },
      "outputs": [],
      "source": [
        "output"
      ]
    },
    {
      "cell_type": "code",
      "execution_count": null,
      "metadata": {
        "id": "SW8P4tA2DHKh"
      },
      "outputs": [],
      "source": [
        "cord = output[-1][0]"
      ]
    },
    {
      "cell_type": "code",
      "execution_count": null,
      "metadata": {
        "colab": {
          "base_uri": "https://localhost:8080/"
        },
        "id": "Vj08hYknEXnE",
        "outputId": "61c8259b-2140-49d4-95f1-0f24ea43e5ec"
      },
      "outputs": [],
      "source": [
        "cord"
      ]
    },
    {
      "cell_type": "code",
      "execution_count": null,
      "metadata": {
        "colab": {
          "base_uri": "https://localhost:8080/"
        },
        "id": "3nXoyWdoEc2i",
        "outputId": "71c34b51-6ea6-4274-b6e8-e731cfe78afb"
      },
      "outputs": [],
      "source": [
        "a = list(zip(*cord))\n",
        "a"
      ]
    },
    {
      "cell_type": "code",
      "execution_count": null,
      "metadata": {
        "colab": {
          "base_uri": "https://localhost:8080/"
        },
        "id": "-Talju53ExKb",
        "outputId": "678b4ff1-531c-46d6-ec2e-e6b209d0dc8e"
      },
      "outputs": [],
      "source": [
        "min(a[0])"
      ]
    },
    {
      "cell_type": "code",
      "execution_count": null,
      "metadata": {
        "colab": {
          "base_uri": "https://localhost:8080/"
        },
        "id": "sfDxg7_RE_PE",
        "outputId": "a71e2913-4f3a-40e4-bddc-fda5b0a15fe6"
      },
      "outputs": [],
      "source": [
        "min(a[1])"
      ]
    },
    {
      "cell_type": "code",
      "execution_count": null,
      "metadata": {
        "colab": {
          "base_uri": "https://localhost:8080/"
        },
        "id": "3SNxkER_FlKN",
        "outputId": "07c72bee-cd08-4f38-919f-8adc8866144e"
      },
      "outputs": [],
      "source": [
        "max(a[0])"
      ]
    },
    {
      "cell_type": "code",
      "execution_count": null,
      "metadata": {
        "colab": {
          "base_uri": "https://localhost:8080/"
        },
        "id": "Ra4nrXngFlM7",
        "outputId": "0c586331-1fc5-4b8b-a248-82b43ccdd837"
      },
      "outputs": [],
      "source": [
        "max(a[1])"
      ]
    },
    {
      "cell_type": "code",
      "execution_count": null,
      "metadata": {
        "id": "7zwP5q_zDKuh"
      },
      "outputs": [],
      "source": [
        "\n",
        "x_min, y_min = [int(min(idx)) for idx in zip(*cord)]"
      ]
    },
    {
      "cell_type": "code",
      "execution_count": null,
      "metadata": {
        "colab": {
          "base_uri": "https://localhost:8080/"
        },
        "id": "RlZab6VGFWgz",
        "outputId": "53556660-74a8-4c92-966b-f63dba82ef41"
      },
      "outputs": [],
      "source": [
        "x_min, y_min"
      ]
    },
    {
      "cell_type": "code",
      "execution_count": null,
      "metadata": {
        "id": "XSPxi2_RDMXJ"
      },
      "outputs": [],
      "source": [
        "\n",
        "x_max, y_max = [int(max(idx)) for idx in zip(*cord)]"
      ]
    },
    {
      "cell_type": "code",
      "execution_count": null,
      "metadata": {
        "colab": {
          "base_uri": "https://localhost:8080/"
        },
        "id": "HPJwuE3-FgNk",
        "outputId": "0b7e84f1-177d-4a91-a5e7-bb83df9dbbb6"
      },
      "outputs": [],
      "source": [
        "x_max, y_max"
      ]
    },
    {
      "cell_type": "code",
      "execution_count": null,
      "metadata": {
        "id": "NNGr7AzoD3xK"
      },
      "outputs": [],
      "source": [
        "from pylab import rcParams\n",
        "rcParams['figure.figsize'] = 20, 30"
      ]
    },
    {
      "cell_type": "code",
      "execution_count": null,
      "metadata": {
        "id": "4x7HEJ-dHzRp"
      },
      "outputs": [],
      "source": []
    }
  ],
  "metadata": {
    "accelerator": "GPU",
    "colab": {
      "provenance": []
    },
    "kernelspec": {
      "display_name": "Python 3",
      "name": "python3"
    },
    "language_info": {
      "codemirror_mode": {
        "name": "ipython",
        "version": 3
      },
      "file_extension": ".py",
      "mimetype": "text/x-python",
      "name": "python",
      "nbconvert_exporter": "python",
      "pygments_lexer": "ipython3",
      "version": "3.11.4"
    }
  },
  "nbformat": 4,
  "nbformat_minor": 0
}
